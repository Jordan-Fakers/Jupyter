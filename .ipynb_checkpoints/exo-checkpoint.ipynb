{
 "cells": [
  {
   "cell_type": "code",
   "execution_count": null,
   "metadata": {},
   "outputs": [],
   "source": [
    "# COMMENTEZ CHAQUE LIGNE DE CE SCRIPT EN EXPLIQUANT CE QU'ELLE FAIT ET POURQUOI\n",
    "\n",
    "# EXPLIQUEZ CE QUE FAIT RANDOM.SAMPLE ET LES ALTERNATIVES QUI EXISTENT EN CHERCHANT SUR INTERNET\n",
    "\n",
    "# EXPLIQUEZ LE %S DU PRINT, QUELS SONT LES AUTRES POSSIBILITES\n",
    "\n",
    "# EXPLIQUEZ LE BUT DE CE SCRIPT\n",
    "\n",
    "# CORRIGEZ LES ERREURS CE SCRIPT\n",
    "\n",
    "# RAJOUTER AU SCRIPT UNE PARTIE QUI AFFICHE TOUS LES NOMS\n",
    "\n",
    "# FAITES EN SORTE QUE LE RESULTAT RESSEMBLE A\n",
    "    # GROUP #1:  ['nameX', 'nameX']\n",
    "    # GROUP #2:  ['nameX', 'nameX']\n",
    "    # GROUP #3:  ['nameX', 'nameX']\n",
    "    \n",
    "# MODIFIEZ LE PRINT POUR REVENIR A LA LIGNE AVANT D'AFFICHER LES GROUPES\n",
    "\n",
    "# MODIFIEZ LE SCRIPT POUR SELECTIONNER UN A UN LES MEMBRES DE LA LISTE \"selected\"\n",
    "\n",
    "# MODIFIEZ LE SCRIPT PRECEDANT POUR OBTENIR LE MEME FONCTIONNEMENT SANS AVOIR A DETERMINER LE NOMBRE DE GROUPES\n",
    "# INDICE: TOUT SE PASSE SUR LA LISTE NAMES\n",
    "# INDICE: PENSER A WHILE\n",
    "\n",
    "# TRANSPOSER CE CODE DANS UN FICHIER .PY ET TROUVER COMMENT L'EXECUTER DEPUIS UN TERMINAL\n",
    "\n",
    "import random\n",
    "\n",
    "name1 = 'name1'\n",
    "name2 = 'name2'\n",
    "name3 = 'name3\n",
    "name4 = 'name4'\n",
    "name5 = name5\n",
    "name6 = 'name6'\n",
    "\n",
    "names = [name1, name2, name3, name4, name5, name6]\n",
    "    \n",
    "nb_groups = 3\n",
    "\n",
    "max_nb_groups = len(names) / nb_groups\n",
    "\n",
    "for i in range(nb_groups)\n",
    "    \n",
    "    selected = random.sample(names, k=max_nb_groups)\n",
    "    \n",
    "    print(\"GROUP #%s : %s\" % (i, selected))\n",
    "    \n",
    "    for sel in selected:\n",
    "        names.remove(sel)\n"
   ]
  }
 ],
 "metadata": {
  "kernelspec": {
   "display_name": "Python 3",
   "language": "python",
   "name": "python3"
  },
  "language_info": {
   "codemirror_mode": {
    "name": "ipython",
    "version": 3
   },
   "file_extension": ".py",
   "mimetype": "text/x-python",
   "name": "python",
   "nbconvert_exporter": "python",
   "pygments_lexer": "ipython3",
   "version": "3.9.1"
  }
 },
 "nbformat": 4,
 "nbformat_minor": 2
}
