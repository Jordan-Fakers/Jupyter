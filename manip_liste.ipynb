{
 "cells": [
  {
   "cell_type": "code",
   "execution_count": 9,
   "metadata": {},
   "outputs": [
    {
     "name": "stdout",
     "output_type": "stream",
     "text": [
      "['jordan', 'matthieu', 'jason', 'veronique', 'lucien', 'tony']\n"
     ]
    }
   ],
   "source": [
    "nbrListe = [\"jordan\", \"matthieu\", \"jason\", \"veronique\", \"jason\",\"matthieu\",\"lucien\",\"tony\"]\n",
    "\n",
    "new_list = [] \n",
    "for i in nbrListe : \n",
    "    if i not in new_list: \n",
    "        new_list.append(i) \n",
    "print(new_list)\n"
   ]
  },
  {
   "cell_type": "code",
   "execution_count": 18,
   "metadata": {},
   "outputs": [
    {
     "name": "stdout",
     "output_type": "stream",
     "text": [
      "['lucien', 'jason', 'matthieu', 'tony', 'veronique', 'jordan']\n"
     ]
    }
   ],
   "source": [
    "myList = [\"jordan\", \"matthieu\", \"jason\", \"veronique\", \"jason\",\"matthieu\",\"lucien\",\"tony\"]\n",
    "\n",
    "myList = list(set(myList))\n",
    "\n",
    "print(myList)"
   ]
  },
  {
   "cell_type": "code",
   "execution_count": 17,
   "metadata": {},
   "outputs": [
    {
     "name": "stdout",
     "output_type": "stream",
     "text": [
      "['jordan', 'matthieu', 'jason', 'veronique', 'lucien', 'tony']\n"
     ]
    }
   ],
   "source": [
    "myList = [\"jordan\", \"matthieu\", \"jason\", \"veronique\", \"jason\",\"matthieu\",\"lucien\",\"tony\"]\n",
    "\n",
    "myList = list(dict.fromkeys(myList))\n",
    "\n",
    "print(myList)"
   ]
  },
  {
   "cell_type": "code",
   "execution_count": 7,
   "metadata": {},
   "outputs": [
    {
     "name": "stdout",
     "output_type": "stream",
     "text": [
      "['jordan', 'veronique', 'lucien', 'tony']\n"
     ]
    }
   ],
   "source": [
    "myList = [\"jordan\", \"matthieu\", \"jason\", \"veronique\", \"jason\",\"matthieu\",\"lucien\",\"tony\"]\n",
    "\n",
    "newList = []\n",
    "\n",
    "for i in myList:\n",
    "    if i not in newList:\n",
    "        newList.append(i)\n",
    "    else:\n",
    "        newList.remove(i)\n",
    "print(newList)"
   ]
  },
  {
   "cell_type": "code",
   "execution_count": 19,
   "metadata": {},
   "outputs": [
    {
     "name": "stdout",
     "output_type": "stream",
     "text": [
      "{'tony', 'lucien', 'veronique', 'jordan'}\n"
     ]
    }
   ],
   "source": [
    "myList = [\"jordan\", \"matthieu\", \"jason\", \"veronique\", \"jason\",\"matthieu\",\"lucien\",\"tony\"]\n",
    "\n",
    "newList= set(myList).difference([i for i in myList if myList.count(i) >= 2]); print(newList)\n"
   ]
  },
  {
   "cell_type": "code",
   "execution_count": null,
   "metadata": {},
   "outputs": [],
   "source": []
  }
 ],
 "metadata": {
  "kernelspec": {
   "display_name": "Python 3",
   "language": "python",
   "name": "python3"
  },
  "language_info": {
   "codemirror_mode": {
    "name": "ipython",
    "version": 3
   },
   "file_extension": ".py",
   "mimetype": "text/x-python",
   "name": "python",
   "nbconvert_exporter": "python",
   "pygments_lexer": "ipython3",
   "version": "3.9.1"
  }
 },
 "nbformat": 4,
 "nbformat_minor": 4
}
