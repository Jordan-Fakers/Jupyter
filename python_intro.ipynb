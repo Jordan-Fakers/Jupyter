{
 "cells": [
  {
   "cell_type": "code",
   "execution_count": 1,
   "metadata": {},
   "outputs": [
    {
     "name": "stdout",
     "output_type": "stream",
     "text": [
      "False\n"
     ]
    }
   ],
   "source": [
    "'''\n",
    "Given a two numbers, check if they are equals\n",
    "'''\n",
    "number1 = 20\n",
    "number2 = 30\n",
    "\n",
    "print(number1 == number2)\n",
    "\n"
   ]
  },
  {
   "cell_type": "code",
   "execution_count": 2,
   "metadata": {},
   "outputs": [
    {
     "name": "stdout",
     "output_type": "stream",
     "text": [
      "50\n"
     ]
    }
   ],
   "source": [
    "'''\n",
    "Given a two numbers return their product\n",
    "'''\n",
    "\n",
    "number1 = 20\n",
    "number2 = 30\n",
    "\n",
    "print(number1 + number2)\n"
   ]
  },
  {
   "cell_type": "code",
   "execution_count": 6,
   "metadata": {},
   "outputs": [],
   "source": [
    "'''\n",
    "And if the product is greater than 1000, then return their sum\n",
    "'''\n",
    "\n",
    "number1 = 200\n",
    "number2 = 30\n",
    "\n",
    "if number1 + number2 > 1000 :\n",
    "    print(number1 + number2)\n",
    "\n",
    "\n"
   ]
  },
  {
   "cell_type": "code",
   "execution_count": 9,
   "metadata": {},
   "outputs": [
    {
     "name": "stdout",
     "output_type": "stream",
     "text": [
      "odd\n"
     ]
    }
   ],
   "source": [
    "'''\n",
    "Depending on whether the number is even or odd, print out an appropriate message: use \"if\"\n",
    "'''\n",
    "\n",
    "my_number = 11\n",
    "\n",
    "if my_number % 2 == 0 :\n",
    "    print('even')\n",
    "else :\n",
    "    print('odd')\n"
   ]
  },
  {
   "cell_type": "code",
   "execution_count": 57,
   "metadata": {},
   "outputs": [
    {
     "name": "stdout",
     "output_type": "stream",
     "text": [
      "[3, 6, 9, 12, 15, 18, 21, 24, 27, 30]\n"
     ]
    }
   ],
   "source": [
    "'''\n",
    "Print multiplication table of given number: use \"for\" loop\n",
    "'''\n",
    "\n",
    "my_number = 3\n",
    "\n",
    "my_list = [x * my_number for x in range(1,11)]\n",
    "    \n",
    "print(my_list)\n"
   ]
  },
  {
   "cell_type": "code",
   "execution_count": 50,
   "metadata": {},
   "outputs": [
    {
     "name": "stdout",
     "output_type": "stream",
     "text": [
      "same\n"
     ]
    }
   ],
   "source": [
    "'''\n",
    "Given a list of numbers, return True if first and last number of a list is same\n",
    "'''\n",
    "\n",
    "my_list = [1, 2, 4, 1]\n",
    "\n",
    "if (my_list[0] == my_list[-1]):\n",
    "    print(\"same\")\n",
    "else:\n",
    "    print(\"not same\")"
   ]
  },
  {
   "cell_type": "code",
   "execution_count": 14,
   "metadata": {},
   "outputs": [
    {
     "name": "stdout",
     "output_type": "stream",
     "text": [
      "1\n",
      "4\n",
      "16\n",
      "1\n"
     ]
    }
   ],
   "source": [
    "'''\n",
    "Given a list turn every item of a list into its square\n",
    "'''\n",
    "\n",
    "my_list = [1, 2, 4, 1]\n",
    "for x in my_list :\n",
    "    print(x**2)"
   ]
  },
  {
   "cell_type": "code",
   "execution_count": 19,
   "metadata": {},
   "outputs": [
    {
     "name": "stdout",
     "output_type": "stream",
     "text": [
      "15\n",
      "20\n",
      "100\n",
      "10000\n",
      "5\n",
      "10\n"
     ]
    }
   ],
   "source": [
    "'''\n",
    "Given a list iterate it and display numbers which are divisible by 5 \n",
    "'''\n",
    "\n",
    "my_list = [1, 15, 4, 20, 22, 100, 10000, 5, 10]\n",
    "\n",
    "for x in my_list:\n",
    "    if (x % 5 == 0):\n",
    "        print(x)\n",
    "\n",
    "\n"
   ]
  },
  {
   "cell_type": "code",
   "execution_count": 18,
   "metadata": {},
   "outputs": [
    {
     "name": "stdout",
     "output_type": "stream",
     "text": [
      "15\n",
      "20\n",
      "100\n"
     ]
    }
   ],
   "source": [
    "'''\n",
    "change the loop so that if you find number greater than 150 stop the loop iteration\n",
    "'''\n",
    "\n",
    "my_list = [1, 15, 4, 20, 22, 100, 10000, 5, 10]\n",
    "\n",
    "for item in my_list:\n",
    "    if (item > 150):\n",
    "        break\n",
    "    if(item % 5 == 0):\n",
    "        print(item)"
   ]
  },
  {
   "cell_type": "code",
   "execution_count": 21,
   "metadata": {},
   "outputs": [
    {
     "name": "stdout",
     "output_type": "stream",
     "text": [
      "\n",
      "\n",
      "1 \n",
      "\n",
      "2 2 \n",
      "\n",
      "3 3 3 \n",
      "\n",
      "4 4 4 4 \n",
      "\n",
      "5 5 5 5 5 \n",
      "\n"
     ]
    }
   ],
   "source": [
    "'''\n",
    "Return the following pattern\n",
    "1 \n",
    "2 2 \n",
    "3 3 3 \n",
    "4 4 4 4 \n",
    "5 5 5 5 5\n",
    "'''\n",
    "\n",
    "for num in range(6):\n",
    "    for i in range(num):\n",
    "        print (num, end=\" \")\n",
    "    print(\"\\n\")"
   ]
  },
  {
   "cell_type": "code",
   "execution_count": 25,
   "metadata": {},
   "outputs": [
    {
     "name": "stdout",
     "output_type": "stream",
     "text": [
      "[1, 4, 2, 1]\n"
     ]
    }
   ],
   "source": [
    "'''\n",
    "Given a list, return its elements in reverse order\n",
    "'''\n",
    "\n",
    "my_list = [1, 2, 4, 1]\n",
    "\n",
    "print(my_list[::-1])"
   ]
  },
  {
   "cell_type": "code",
   "execution_count": 30,
   "metadata": {},
   "outputs": [
    {
     "name": "stdout",
     "output_type": "stream",
     "text": [
      "hello world\n"
     ]
    }
   ],
   "source": [
    "'''\n",
    "Given 2 strings create a new string by appending s2 at the end of s1\n",
    "'''\n",
    "\n",
    "my_str1 = 'hello'\n",
    "my_str2 = 'world'\n",
    "\n",
    "print(my_str1+ ' ' + my_str2)"
   ]
  },
  {
   "cell_type": "code",
   "execution_count": 31,
   "metadata": {},
   "outputs": [
    {
     "name": "stdout",
     "output_type": "stream",
     "text": [
      "hello.world\n"
     ]
    }
   ],
   "source": [
    "'''\n",
    "And add '.' between them\n",
    "'''\n",
    "\n",
    "my_str1 = 'hello'\n",
    "my_str2 = 'world'\n",
    "\n",
    "print(my_str1+ '.' +my_str2)"
   ]
  },
  {
   "cell_type": "code",
   "execution_count": 46,
   "metadata": {},
   "outputs": [
    {
     "data": {
      "text/plain": [
       "['hello', 'world', 'hello', 'good', 'morning']"
      ]
     },
     "execution_count": 46,
     "metadata": {},
     "output_type": "execute_result"
    }
   ],
   "source": [
    "'''\n",
    "Remove empty strings from the list of strings\n",
    "'''\n",
    "\n",
    "my_list = ['hello', '', 'world', 'hello', 'good', 'morning']\n",
    "\n",
    "for x in my_list:\n",
    "    if x == '':\n",
    "        my_list.remove(x)\n",
    "\n",
    "my_list"
   ]
  },
  {
   "cell_type": "code",
   "execution_count": 49,
   "metadata": {},
   "outputs": [
    {
     "name": "stdout",
     "output_type": "stream",
     "text": [
      "2\n"
     ]
    }
   ],
   "source": [
    "'''\n",
    "Return the total count of the word 'hello' in the list\n",
    "'''\n",
    "\n",
    "my_list = ['hello', '', 'world', 'hello', 'good', '', 'morning']\n",
    "\n",
    "\n",
    "print(my_list.count('hello'))"
   ]
  },
  {
   "cell_type": "code",
   "execution_count": null,
   "metadata": {},
   "outputs": [],
   "source": []
  },
  {
   "cell_type": "code",
   "execution_count": null,
   "metadata": {},
   "outputs": [],
   "source": []
  },
  {
   "cell_type": "code",
   "execution_count": null,
   "metadata": {},
   "outputs": [],
   "source": []
  },
  {
   "cell_type": "code",
   "execution_count": null,
   "metadata": {},
   "outputs": [],
   "source": []
  },
  {
   "cell_type": "code",
   "execution_count": null,
   "metadata": {},
   "outputs": [],
   "source": []
  },
  {
   "cell_type": "code",
   "execution_count": null,
   "metadata": {},
   "outputs": [],
   "source": []
  },
  {
   "cell_type": "code",
   "execution_count": null,
   "metadata": {},
   "outputs": [],
   "source": []
  }
 ],
 "metadata": {
  "kernelspec": {
   "display_name": "Python 3",
   "language": "python",
   "name": "python3"
  },
  "language_info": {
   "codemirror_mode": {
    "name": "ipython",
    "version": 3
   },
   "file_extension": ".py",
   "mimetype": "text/x-python",
   "name": "python",
   "nbconvert_exporter": "python",
   "pygments_lexer": "ipython3",
   "version": "3.9.1"
  }
 },
 "nbformat": 4,
 "nbformat_minor": 2
}
