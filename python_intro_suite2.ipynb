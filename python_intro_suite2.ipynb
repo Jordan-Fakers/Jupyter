{
 "cells": [
  {
   "cell_type": "code",
   "execution_count": null,
   "metadata": {},
   "outputs": [],
   "source": [
    "'''\n",
    "map two lists into a dictionary.\n",
    "'''\n",
    "\n",
    "list1 = ['nom', 'prenom', 'age']\n",
    "list2 = ['alexi', 'lahoe', 24]\n",
    "\n",
    "combined_list= dict(zip(list1,list2))\n",
    "\n",
    "print(combined_list)"
   ]
  },
  {
   "cell_type": "code",
   "execution_count": 1,
   "metadata": {},
   "outputs": [
    {
     "name": "stdout",
     "output_type": "stream",
     "text": [
      "{'nom': 'lahoe', 'prenom': 'alexei'}\n"
     ]
    }
   ],
   "source": [
    "'''\n",
    "remove duplicates from Dictionary\n",
    "'''\n",
    "\n",
    "my_dict = {'nom': 'lahoe', 'prenom': 'alexi', 'prenom': 'alexei'}\n",
    "\n",
    "result = {}\n",
    "\n",
    "for key,value in my_dict.items():\n",
    "    if value not in result.values():\n",
    "        result[key] = value\n",
    "print(result)"
   ]
  },
  {
   "cell_type": "code",
   "execution_count": 3,
   "metadata": {},
   "outputs": [
    {
     "name": "stdout",
     "output_type": "stream",
     "text": [
      "Counter({'a': 400, 'b': 400, 'd': 400, 'c': 300})\n",
      "{'a': 400, 'b': 400, 'd': 400}\n"
     ]
    }
   ],
   "source": [
    "'''\n",
    "combine two dictionary adding values for common keys.\n",
    "d1 = {'a': 100, 'b': 200, 'c':300}\n",
    "d2 = {'a': 300, 'b': 200, 'd':400}\n",
    "output {'a': 400, 'b': 400, 'd': 400, 'c': 300}\n",
    "'''\n",
    "from collections import Counter\n",
    "d1 = {'a': 100, 'b': 200, 'c':300}\n",
    "d2 = {'a': 300, 'b': 200, 'd':400}\n",
    "d = Counter(d1) + Counter(d2)\n",
    "print(d)\n",
    "\n",
    "d1 = {'a': 100, 'b': 200, 'c':300}\n",
    "d2 = {'a': 300, 'b': 200, 'd':400}\n",
    "for key in d2:\n",
    "    if key in d1:\n",
    "        d2[key] = d2[key] + d1[key]\n",
    "    else:\n",
    "        pass\n",
    "print(d2)\n",
    "        "
   ]
  },
  {
   "cell_type": "code",
   "execution_count": 5,
   "metadata": {},
   "outputs": [
    {
     "name": "stdout",
     "output_type": "stream",
     "text": [
      "isAlexis\n"
     ]
    }
   ],
   "source": [
    "'''\n",
    "get a new string from a given string where \"is\" has been added to the front. \n",
    "If the given string already begins with \"is\" then return the string unchanged\n",
    "'''\n",
    "my_str = 'Alex'\n",
    "my_str = 'Alexis'\n",
    "my_str2 = ''.join(('is',my_str))\n",
    "\n",
    "print(my_str2)\n",
    "\n"
   ]
  },
  {
   "cell_type": "code",
   "execution_count": 10,
   "metadata": {},
   "outputs": [
    {
     "name": "stdout",
     "output_type": "stream",
     "text": [
      "[1, 2, 3, 5, 8, 13]\n"
     ]
    }
   ],
   "source": [
    "'''\n",
    "return a list that contains only the elements that are common between the lists (without duplicates)\n",
    "'''\n",
    "my_list1 = [1, 1, 2, 3, 5, 8, 13, 21, 34, 55, 89]\n",
    "my_list2  = [1, 2, 3, 4, 5, 6, 7, 8, 9, 10, 11, 12, 13]\n",
    "\n",
    "my_list3 = []\n",
    "\n",
    "for i in my_list1:\n",
    "    if i in my_list2 and i not in my_list3:\n",
    "        my_list3.append(i)\n",
    "print(my_list3)"
   ]
  },
  {
   "cell_type": "code",
   "execution_count": 2,
   "metadata": {},
   "outputs": [
    {
     "name": "stdout",
     "output_type": "stream",
     "text": [
      "False\n"
     ]
    }
   ],
   "source": [
    "'''\n",
    "check whether a specified value is contained in a group of values\n",
    "\n",
    "3 -> [1, 5, 8, 3] : True\n",
    "-1 -> [1, 5, 8, 3] : False\n",
    "'''\n",
    "\n",
    "my_list = [1, 10, 100, 1500]\n",
    "my_nb = 10\n",
    "\n",
    "def is_group_member(group_data, n):\n",
    "    for value in group_data:\n",
    "        if n == value:\n",
    "            return True\n",
    "    return False\n",
    "print(is_group_member(my_list, my_nb))\n"
   ]
  },
  {
   "cell_type": "code",
   "execution_count": 5,
   "metadata": {},
   "outputs": [
    {
     "name": "stdout",
     "output_type": "stream",
     "text": [
      "Letters 6\n",
      "Digits 2\n"
     ]
    }
   ],
   "source": [
    "'''\n",
    "take a string and calculate the number of digits and letters\n",
    "'''\n",
    "my_str = 'python3.6'\n",
    "d=l=0\n",
    "for c in my_str:\n",
    "    if c.isdigit():\n",
    "        d=d+1\n",
    "    elif c.isalpha():\n",
    "        l=l+1\n",
    "    else:\n",
    "        pass\n",
    "print(\"Letters\", l)\n",
    "print(\"Digits\", d)\n"
   ]
  },
  {
   "cell_type": "code",
   "execution_count": 7,
   "metadata": {},
   "outputs": [
    {
     "name": "stdout",
     "output_type": "stream",
     "text": [
      "[1, 2, 3, 4, 10]\n"
     ]
    }
   ],
   "source": [
    "'''\n",
    "add my_nb to the end of the list\n",
    "'''\n",
    "a=[1,2,3,4]\n",
    "a.insert(len(a),my_nb)\n",
    "print(a)"
   ]
  },
  {
   "cell_type": "code",
   "execution_count": 9,
   "metadata": {},
   "outputs": [
    {
     "name": "stdout",
     "output_type": "stream",
     "text": [
      "[10, 1, 2, 3, 4]\n"
     ]
    }
   ],
   "source": [
    "'''\n",
    "add my_nb to the beginning of the list\n",
    "'''\n",
    "\n",
    "a=[1,2,3,4]\n",
    "a.insert(0,my_nb)\n",
    "print(a)"
   ]
  },
  {
   "cell_type": "code",
   "execution_count": 12,
   "metadata": {},
   "outputs": [
    {
     "name": "stdout",
     "output_type": "stream",
     "text": [
      "alexi\n"
     ]
    }
   ],
   "source": [
    "'''\n",
    "concatenate all elements in a list into a string and return it\n",
    "'''\n",
    "my_list = ['a', 'l', 'e', 'x', 'i']\n",
    "\n",
    "result = ''\n",
    "for element in my_list:\n",
    "        result += str(element)\n",
    "print(result)"
   ]
  },
  {
   "cell_type": "code",
   "execution_count": 7,
   "metadata": {},
   "outputs": [
    {
     "output_type": "stream",
     "name": "stdout",
     "text": [
      "posix\nDarwin\n20.2.0\n"
     ]
    }
   ],
   "source": [
    "'''\n",
    "get OS name, platform and release information.\n",
    "use package os\n",
    "'''\n",
    "import platform\n",
    "import os\n",
    "print(os.name)\n",
    "print(platform.system())\n",
    "print(platform.release())\n"
   ]
  },
  {
   "cell_type": "code",
   "execution_count": 4,
   "metadata": {},
   "outputs": [
    {
     "output_type": "execute_result",
     "data": {
      "text/plain": [
       "'127.0.0.1'"
      ]
     },
     "metadata": {},
     "execution_count": 4
    }
   ],
   "source": [
    "'''\n",
    "find and print your IP addresses\n",
    "'''\n",
    "import socket\n",
    "socket.gethostbyname(socket.gethostname())"
   ]
  },
  {
   "cell_type": "code",
   "execution_count": 6,
   "metadata": {},
   "outputs": [
    {
     "output_type": "execute_result",
     "data": {
      "text/plain": [
       "'/Users/mazn0/Desktop/jupyter/python_intro_suite2.ipynb'"
      ]
     },
     "metadata": {},
     "execution_count": 6
    }
   ],
   "source": [
    "'''\n",
    "get an absolute file path\n",
    "'''\n",
    "import os\n",
    "os.path.abspath('python_intro_suite2.ipynb')"
   ]
  },
  {
   "cell_type": "code",
   "execution_count": 22,
   "metadata": {},
   "outputs": [
    {
     "name": "stdout",
     "output_type": "stream",
     "text": [
      "True\n",
      "True\n",
      "True\n",
      "False\n"
     ]
    }
   ],
   "source": [
    "'''\n",
    "test whether all numbers of a list is greater than a certain number\n",
    "'''\n",
    "\n",
    "my_nb = 150\n",
    "my_list = [1, 10, 100, 1500]\n",
    "\n",
    "print(all(my_nb > 1 for x in my_list))\n",
    "print(all(my_nb > 10 for x in my_list))\n",
    "print(all(my_nb > 100 for x in my_list))\n",
    "print(all(my_nb > 1500 for x in my_list))\n"
   ]
  },
  {
   "cell_type": "code",
   "execution_count": null,
   "metadata": {},
   "outputs": [],
   "source": []
  },
  {
   "cell_type": "code",
   "execution_count": null,
   "metadata": {},
   "outputs": [],
   "source": []
  },
  {
   "cell_type": "code",
   "execution_count": null,
   "metadata": {},
   "outputs": [],
   "source": []
  },
  {
   "cell_type": "code",
   "execution_count": null,
   "metadata": {},
   "outputs": [],
   "source": []
  }
 ],
 "metadata": {
  "kernelspec": {
   "name": "python3",
   "display_name": "Python 3.9.1 64-bit",
   "metadata": {
    "interpreter": {
     "hash": "7812ea015bdcee6f23a998adcdd2ef97c151c0c241b7b7070987d9313e41299d"
    }
   }
  },
  "language_info": {
   "codemirror_mode": {
    "name": "ipython",
    "version": 3
   },
   "file_extension": ".py",
   "mimetype": "text/x-python",
   "name": "python",
   "nbconvert_exporter": "python",
   "pygments_lexer": "ipython3",
   "version": "3.9.1-final"
  }
 },
 "nbformat": 4,
 "nbformat_minor": 2
}