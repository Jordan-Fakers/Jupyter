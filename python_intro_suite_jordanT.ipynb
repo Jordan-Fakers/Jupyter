{
 "cells": [
  {
   "cell_type": "code",
   "execution_count": 1,
   "metadata": {},
   "outputs": [
    {
     "name": "stdout",
     "output_type": "stream",
     "text": [
      "not equal\n"
     ]
    }
   ],
   "source": [
    "'''\n",
    "Given two numbers, check if they are equals (use try except)\n",
    "'''\n",
    "number1 = 20\n",
    "number2 = 30\n",
    "try:\n",
    "    if 1/(number1 - number2 == 0):\n",
    "        print(\"equal\")\n",
    "except:\n",
    "        print(\"not equal\")"
   ]
  },
  {
   "cell_type": "code",
   "execution_count": 3,
   "metadata": {},
   "outputs": [
    {
     "name": "stdout",
     "output_type": "stream",
     "text": [
      "['1505', '1540', '1575', '1610', '1645', '1680', '1715', '1750', '1785', '1820', '1855', '1890', '1925', '1960', '1995', '2030', '2065', '2100', '2135', '2170', '2205', '2240', '2275', '2310', '2345', '2380', '2415', '2450', '2485', '2520', '2555', '2590', '2625', '2660', '2695']\n"
     ]
    }
   ],
   "source": [
    "'''\n",
    "find those numbers which are divisible by 7 and multiple of 5, between 1500 and 2700 (both included)\n",
    "'''\n",
    "result_list =[]\n",
    "for i in range(1500,2701):\n",
    "    if (i%7==0) and (i%5==0):\n",
    "        result_list.append(str(i))\n",
    "print (result_list)"
   ]
  },
  {
   "cell_type": "code",
   "execution_count": 5,
   "metadata": {},
   "outputs": [
    {
     "name": "stdout",
     "output_type": "stream",
     "text": [
      "0\n"
     ]
    }
   ],
   "source": [
    "'''\n",
    "sum of three given integers. \n",
    "However, if two values are equal sum will be zero\n",
    "'''\n",
    "\n",
    "my_nb1 = 10\n",
    "my_nb2 = 10\n",
    "my_nb3 = 15\n",
    "\n",
    "if my_nb1 == my_nb2 or my_nb2 == my_nb3 or my_nb3 == my_nb1:\n",
    "    print(0)\n",
    "else:\n",
    "    print(my_nb1 + my_nb2 + my_nb3)\n",
    "# my_list[]\n",
    "# my_list.extend([my_nb1,my_nb2,my_nb3])\n",
    "# if len(set(my_list)) == len(my_list):\n",
    "# my_sum = sum(my_list)\n",
    "#"
   ]
  },
  {
   "cell_type": "code",
   "execution_count": null,
   "metadata": {},
   "outputs": [],
   "source": [
    "'''\n",
    "add two objects if both objects are an integer type\n",
    "'''\n",
    "\n",
    "my_obj1 = 13\n",
    "my_obj2 = '12'\n",
    "\n",
    "if not (isinstance(my_obj1, int) and isinstance(my_obj2, int)):\n",
    "         raise TypeError(\"Inputs must be integers\")\n",
    "print(my_obj1 + my_obj2)"
   ]
  },
  {
   "cell_type": "code",
   "execution_count": 15,
   "metadata": {},
   "outputs": [
    {
     "name": "stdout",
     "output_type": "stream",
     "text": [
      "4:36:22\n"
     ]
    }
   ],
   "source": [
    "'''\n",
    "convert seconds to day, hour, minutes and seconds\n",
    "'''\n",
    "\n",
    "my_secs = 16582\n",
    "from datetime import timedelta\n",
    "print(timedelta(seconds=16582.00))"
   ]
  },
  {
   "cell_type": "code",
   "execution_count": 13,
   "metadata": {},
   "outputs": [
    {
     "name": "stdout",
     "output_type": "stream",
     "text": [
      "\n",
      "* \n",
      "* * \n",
      "* * * \n",
      "* * * * \n",
      "* * * * * \n",
      "* * * * \n",
      "* * * \n",
      "* * \n",
      "* \n"
     ]
    }
   ],
   "source": [
    "'''\n",
    "construct the following pattern, using a nested for loop.\n",
    "* \n",
    "* * \n",
    "* * * \n",
    "* * * * \n",
    "* * * * * \n",
    "* * * * \n",
    "* * * \n",
    "* * \n",
    "*\n",
    "'''\n",
    "\n",
    "n=5;\n",
    "for i in range(n):\n",
    "    for j in range(i):\n",
    "        print ('* ', end=\"\")\n",
    "    print('')\n",
    "\n",
    "for i in range(n,0,-1):\n",
    "    for j in range(i):\n",
    "        print('* ', end=\"\")\n",
    "    print('')\n"
   ]
  },
  {
   "cell_type": "code",
   "execution_count": 15,
   "metadata": {},
   "outputs": [
    {
     "data": {
      "text/plain": [
       "13"
      ]
     },
     "execution_count": 15,
     "metadata": {},
     "output_type": "execute_result"
    }
   ],
   "source": [
    "'''\n",
    "return the largest of three numbers. \n",
    "Do this without using the Python max() function\n",
    "'''\n",
    "\n",
    "my_nb1 = 13\n",
    "my_nb2 = 3\n",
    "my_nb3 = 1\n",
    "\n",
    "numbers=[my_nb1,my_nb2,my_nb3]\n",
    "\n",
    "maxx = 0 \n",
    "for n in numbers:\n",
    "    if n > maxx:\n",
    "        maxx = n\n",
    "maxx"
   ]
  },
  {
   "cell_type": "code",
   "execution_count": 43,
   "metadata": {},
   "outputs": [
    {
     "name": "stdout",
     "output_type": "stream",
     "text": [
      "4\n"
     ]
    }
   ],
   "source": [
    "'''\n",
    "find how many 0s a number has\n",
    "'''\n",
    "\n",
    "my_nb = '13001200'\n",
    "\n",
    "value = my_nb.count('0')\n",
    "\n",
    "print(value)\n"
   ]
  },
  {
   "cell_type": "code",
   "execution_count": 41,
   "metadata": {},
   "outputs": [
    {
     "data": {
      "text/plain": [
       "'\\naccept a word from the user and reverse it. \\nuse input\\n'"
      ]
     },
     "execution_count": 41,
     "metadata": {},
     "output_type": "execute_result"
    }
   ],
   "source": [
    "'''\n",
    "accept a word from the user and reverse it. \n",
    "use input\n",
    "'''\n",
    "word = input(\"Input a word to reverse: \")\n",
    "\n",
    "for char in range(len(word) - 1):\n",
    "  print(word[char], end=\"\")\n",
    "print(\"\\n\")\n"
   ]
  },
  {
   "cell_type": "code",
   "execution_count": 67,
   "metadata": {},
   "outputs": [
    {
     "name": "stdout",
     "output_type": "stream",
     "text": [
      "this word doesn't exit\n"
     ]
    }
   ],
   "source": [
    "'''\n",
    "check whether the key \"nom\" already exists in a dictionary.\n",
    "'''\n",
    "\n",
    "my_dict = {'age': 25, 'taille': 180, 'nom': 'alexi'}\n",
    "\n",
    "\n",
    "if 'nom' in my_dict:\n",
    "    print('this word exist')\n",
    "else:\n",
    "    print(\"this word doesn't exit\")"
   ]
  },
  {
   "cell_type": "code",
   "execution_count": 65,
   "metadata": {},
   "outputs": [
    {
     "name": "stdout",
     "output_type": "stream",
     "text": [
      "alexi\n"
     ]
    }
   ],
   "source": [
    "'''\n",
    "return value of \"nom\" \n",
    "'''\n",
    "my_dict = {'age': 25, 'taille': 180, 'nom': 'alexi'}\n",
    "\n",
    "print(my_dict['nom'])"
   ]
  },
  {
   "cell_type": "code",
   "execution_count": 56,
   "metadata": {},
   "outputs": [],
   "source": [
    "'''\n",
    "make a statement that returns the value of the key \"nom\" if it exists, otherwise None\n",
    "'''\n",
    "\n",
    "my_dict = {'age': 25, 'taille': 180}\n",
    "\n",
    "if 'nom' in my_dict.keys():\n",
    "    print(\"my name is :\",my_dict['nom'])\n",
    "\n"
   ]
  },
  {
   "cell_type": "code",
   "execution_count": 57,
   "metadata": {},
   "outputs": [
    {
     "name": "stdout",
     "output_type": "stream",
     "text": [
      "{'age': 25, 'taille': 180, 'name': 'jordan'}\n"
     ]
    }
   ],
   "source": [
    "'''\n",
    "change \"nom\" to your name in my_dict\n",
    "'''\n",
    "my_dict['name'] = 'jordan'\n",
    "print(my_dict)"
   ]
  },
  {
   "cell_type": "code",
   "execution_count": 59,
   "metadata": {},
   "outputs": [
    {
     "name": "stdout",
     "output_type": "stream",
     "text": [
      "{1: 1, 2: 4, 3: 9, 4: 16, 5: 25}\n"
     ]
    }
   ],
   "source": [
    "'''\n",
    "print a dictionary that contains a number (between 1 and n) in the form (x, x*x)\n",
    "n = 5\n",
    "output {1: 1, 2: 4, 3: 9, 4: 16, 5: 25}\n",
    "'''\n",
    "\n",
    "n = 5\n",
    "d = dict()\n",
    "\n",
    "for x in range(1,n+1):\n",
    "    d[x]=x*x\n",
    "\n",
    "print(d) \n"
   ]
  },
  {
   "cell_type": "code",
   "execution_count": 60,
   "metadata": {},
   "outputs": [
    {
     "name": "stdout",
     "output_type": "stream",
     "text": [
      "{'age': 24, 'taille': 180, 'nom': 'lahoe', 'prenom': 'alexi'}\n"
     ]
    }
   ],
   "source": [
    "'''\n",
    "merge two Python dictionaries\n",
    "'''\n",
    "\n",
    "my_dict1 = {'age': 24, 'taille': 180}\n",
    "my_dict2 = {'nom': 'lahoe', 'prenom': 'alexi'}\n",
    "\n",
    "my_dict3 = my_dict1 | my_dict2\n",
    "\n",
    "print(my_dict3)"
   ]
  },
  {
   "cell_type": "code",
   "execution_count": 61,
   "metadata": {},
   "outputs": [
    {
     "name": "stdout",
     "output_type": "stream",
     "text": [
      "6\n"
     ]
    }
   ],
   "source": [
    "'''\n",
    "sum all the items in a dictionary\n",
    "'''\n",
    "\n",
    "my_dict = {'key1': 1, 'key2': 2, 'key3': 3}\n",
    "\n",
    "print(sum(my_dict.values()))"
   ]
  },
  {
   "cell_type": "code",
   "execution_count": 63,
   "metadata": {},
   "outputs": [
    {
     "name": "stdout",
     "output_type": "stream",
     "text": [
      "{'age': 25, 'taille': 180}\n"
     ]
    }
   ],
   "source": [
    "'''\n",
    "remove a key \"nom\" a dictionary\n",
    "'''\n",
    "\n",
    "my_dict = {'age': 25, 'taille': 180, 'nom': 'alexi'}\n",
    "\n",
    "my_dict2 = my_dict.pop('nom')\n",
    "\n",
    "print(my_dict)"
   ]
  },
  {
   "cell_type": "code",
   "execution_count": 64,
   "metadata": {},
   "outputs": [
    {
     "name": "stdout",
     "output_type": "stream",
     "text": [
      "{'nom': 'alexi', 'prenom': 'lahoe', 'age': 24}\n"
     ]
    }
   ],
   "source": [
    "'''\n",
    "map two lists into a dictionary.\n",
    "'''\n",
    "\n",
    "list1 = ['nom', 'prenom', 'age']\n",
    "list2 = ['alexi', 'lahoe', 24]\n",
    "\n",
    "combined_list= dict(zip(list1,list2))\n",
    "\n",
    "print(combined_list)"
   ]
  },
  {
   "cell_type": "code",
   "execution_count": null,
   "metadata": {},
   "outputs": [],
   "source": []
  },
  {
   "cell_type": "code",
   "execution_count": null,
   "metadata": {},
   "outputs": [],
   "source": []
  },
  {
   "cell_type": "code",
   "execution_count": null,
   "metadata": {},
   "outputs": [],
   "source": []
  }
 ],
 "metadata": {
  "kernelspec": {
   "display_name": "Python 3",
   "language": "python",
   "name": "python3"
  },
  "language_info": {
   "codemirror_mode": {
    "name": "ipython",
    "version": 3
   },
   "file_extension": ".py",
   "mimetype": "text/x-python",
   "name": "python",
   "nbconvert_exporter": "python",
   "pygments_lexer": "ipython3",
   "version": "3.9.1"
  }
 },
 "nbformat": 4,
 "nbformat_minor": 2
}
